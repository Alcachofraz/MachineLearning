{
 "cells": [
  {
   "cell_type": "code",
   "execution_count": null,
   "metadata": {},
   "outputs": [],
   "source": [
    "from pygad import GA\n",
    "from NQueens import NQueens\n",
    "\n",
    "n = 5\n",
    "nq = NQueens(n)\n",
    "pop = nq.population()\n",
    "\n",
    "\n",
    "def fitFunc(element, index):\n",
    "    return nq.fitnessFunction(element)\n",
    "\n",
    "\n",
    "ga = GA(num_generations=len(pop),\n",
    "        num_parents_mating=2,\n",
    "        num_genes=n,\n",
    "        initial_population=pop,\n",
    "        fitness_func=fitFunc,\n",
    "        parent_selection_type='rws',  # roullete\n",
    "        crossover_type='single_point',\n",
    "        crossover_probability=1,\n",
    "        mutation_type='random',\n",
    "        mutation_probability=0.1,\n",
    "        gene_type=int,\n",
    "        gene_space=range(1, n+1),\n",
    "        allow_duplicate_genes=True,\n",
    "        stop_criteria='reach_1'\n",
    "        )\n",
    "\n",
    "ga.run()\n",
    "# ga.plot_fitness()\n",
    "print(nq.printState(ga.best_solution()[0]))\n"
   ]
  },
  {
   "cell_type": "code",
   "execution_count": 1,
   "metadata": {},
   "outputs": [
    {
     "name": "stdout",
     "output_type": "stream",
     "text": [
      "[(56, 91), (67, 85), (95, 100), (23, 79), (70, 24)]\n"
     ]
    },
    {
     "data": {
      "image/png": "[encoded data removed]",
      "text/plain": [
       "<Figure size 432x288 with 1 Axes>"
      ]
     },
     "metadata": {
      "needs_background": "light"
     },
     "output_type": "display_data"
    },
    {
     "ename": "ValueError",
     "evalue": "A 2D list is expected to the initail_population parameter but a (3-D) list found.",
     "output_type": "error",
     "traceback": [
      "\u001b[1;31m---------------------------------------------------------------------------\u001b[0m",
      "\u001b[1;31mValueError\u001b[0m                                Traceback (most recent call last)",
      "Input \u001b[1;32mIn [1]\u001b[0m, in \u001b[0;36m<module>\u001b[1;34m\u001b[0m\n\u001b[0;32m      8\u001b[0m \u001b[38;5;28;01mdef\u001b[39;00m \u001b[38;5;21mfitFunc\u001b[39m(element, index):\n\u001b[0;32m      9\u001b[0m     \u001b[38;5;28;01mreturn\u001b[39;00m ts\u001b[38;5;241m.\u001b[39mfitnessFunction(element)\n\u001b[1;32m---> 12\u001b[0m ga \u001b[38;5;241m=\u001b[39m \u001b[43mGA\u001b[49m\u001b[43m(\u001b[49m\u001b[43mnum_generations\u001b[49m\u001b[38;5;241;43m=\u001b[39;49m\u001b[38;5;28;43mlen\u001b[39;49m\u001b[43m(\u001b[49m\u001b[43mpop\u001b[49m\u001b[43m)\u001b[49m\u001b[43m,\u001b[49m\n\u001b[0;32m     13\u001b[0m \u001b[43m        \u001b[49m\u001b[43mnum_parents_mating\u001b[49m\u001b[38;5;241;43m=\u001b[39;49m\u001b[38;5;241;43m2\u001b[39;49m\u001b[43m,\u001b[49m\n\u001b[0;32m     14\u001b[0m \u001b[43m        \u001b[49m\u001b[43mnum_genes\u001b[49m\u001b[38;5;241;43m=\u001b[39;49m\u001b[43mn\u001b[49m\u001b[43m,\u001b[49m\n\u001b[0;32m     15\u001b[0m \u001b[43m        \u001b[49m\u001b[43minitial_population\u001b[49m\u001b[38;5;241;43m=\u001b[39;49m\u001b[43mpop\u001b[49m\u001b[43m,\u001b[49m\n\u001b[0;32m     16\u001b[0m \u001b[43m        \u001b[49m\u001b[43mfitness_func\u001b[49m\u001b[38;5;241;43m=\u001b[39;49m\u001b[43mfitFunc\u001b[49m\u001b[43m,\u001b[49m\n\u001b[0;32m     17\u001b[0m \u001b[43m        \u001b[49m\u001b[43mparent_selection_type\u001b[49m\u001b[38;5;241;43m=\u001b[39;49m\u001b[38;5;124;43m'\u001b[39;49m\u001b[38;5;124;43mrws\u001b[39;49m\u001b[38;5;124;43m'\u001b[39;49m\u001b[43m,\u001b[49m\u001b[43m  \u001b[49m\u001b[38;5;66;43;03m# roullete\u001b[39;49;00m\n\u001b[0;32m     18\u001b[0m \u001b[43m        \u001b[49m\u001b[43mcrossover_type\u001b[49m\u001b[38;5;241;43m=\u001b[39;49m\u001b[38;5;124;43m'\u001b[39;49m\u001b[38;5;124;43msingle_point\u001b[39;49m\u001b[38;5;124;43m'\u001b[39;49m\u001b[43m,\u001b[49m\n\u001b[0;32m     19\u001b[0m \u001b[43m        \u001b[49m\u001b[43mcrossover_probability\u001b[49m\u001b[38;5;241;43m=\u001b[39;49m\u001b[38;5;241;43m1\u001b[39;49m\u001b[43m,\u001b[49m\n\u001b[0;32m     20\u001b[0m \u001b[43m        \u001b[49m\u001b[43mmutation_type\u001b[49m\u001b[38;5;241;43m=\u001b[39;49m\u001b[38;5;124;43m'\u001b[39;49m\u001b[38;5;124;43mswap\u001b[39;49m\u001b[38;5;124;43m'\u001b[39;49m\u001b[43m,\u001b[49m\n\u001b[0;32m     21\u001b[0m \u001b[43m        \u001b[49m\u001b[43mmutation_probability\u001b[49m\u001b[38;5;241;43m=\u001b[39;49m\u001b[38;5;241;43m0.1\u001b[39;49m\u001b[43m,\u001b[49m\n\u001b[0;32m     22\u001b[0m \u001b[43m        \u001b[49m\u001b[43mallow_duplicate_genes\u001b[49m\u001b[38;5;241;43m=\u001b[39;49m\u001b[38;5;28;43;01mFalse\u001b[39;49;00m\u001b[43m,\u001b[49m\n\u001b[0;32m     23\u001b[0m \u001b[43m        \u001b[49m\u001b[43mstop_criteria\u001b[49m\u001b[38;5;241;43m=\u001b[39;49m\u001b[38;5;124;43m'\u001b[39;49m\u001b[38;5;124;43mreach_1\u001b[39;49m\u001b[38;5;124;43m'\u001b[39;49m\n\u001b[0;32m     24\u001b[0m \u001b[43m        \u001b[49m\u001b[43m)\u001b[49m\n\u001b[0;32m     26\u001b[0m ga\u001b[38;5;241m.\u001b[39mrun()\n\u001b[0;32m     27\u001b[0m ga\u001b[38;5;241m.\u001b[39mplot_fitness()\n",
      "File \u001b[1;32m~\\AppData\\Local\\Programs\\Python\\Python39\\lib\\site-packages\\pygad\\pygad.py:290\u001b[0m, in \u001b[0;36mGA.__init__\u001b[1;34m(self, num_generations, num_parents_mating, fitness_func, initial_population, sol_per_pop, num_genes, init_range_low, init_range_high, gene_type, parent_selection_type, keep_parents, K_tournament, crossover_type, crossover_probability, mutation_type, mutation_probability, mutation_by_replacement, mutation_percent_genes, mutation_num_genes, random_mutation_min_val, random_mutation_max_val, gene_space, allow_duplicate_genes, on_start, on_fitness, on_parents, on_crossover, on_mutation, callback_generation, on_generation, on_stop, delay_after_gen, save_best_solutions, save_solutions, suppress_warnings, stop_criteria)\u001b[0m\n\u001b[0;32m    288\u001b[0m \u001b[38;5;28;01melif\u001b[39;00m numpy\u001b[38;5;241m.\u001b[39marray(initial_population)\u001b[38;5;241m.\u001b[39mndim \u001b[38;5;241m!=\u001b[39m \u001b[38;5;241m2\u001b[39m:\n\u001b[0;32m    289\u001b[0m     \u001b[38;5;28mself\u001b[39m\u001b[38;5;241m.\u001b[39mvalid_parameters \u001b[38;5;241m=\u001b[39m \u001b[38;5;28;01mFalse\u001b[39;00m\n\u001b[1;32m--> 290\u001b[0m     \u001b[38;5;28;01mraise\u001b[39;00m \u001b[38;5;167;01mValueError\u001b[39;00m(\u001b[38;5;124m\"\u001b[39m\u001b[38;5;124mA 2D list is expected to the initail_population parameter but a (\u001b[39m\u001b[38;5;132;01m{initial_population_ndim}\u001b[39;00m\u001b[38;5;124m-D) list found.\u001b[39m\u001b[38;5;124m\"\u001b[39m\u001b[38;5;241m.\u001b[39mformat(initial_population_ndim\u001b[38;5;241m=\u001b[39mnumpy\u001b[38;5;241m.\u001b[39marray(initial_population)\u001b[38;5;241m.\u001b[39mndim))\n\u001b[0;32m    291\u001b[0m \u001b[38;5;28;01melse\u001b[39;00m:\n\u001b[0;32m    292\u001b[0m     \u001b[38;5;66;03m# Forcing the initial_population array to have the data type assigned to the gene_type parameter.\u001b[39;00m\n\u001b[0;32m    293\u001b[0m     \u001b[38;5;28;01mif\u001b[39;00m \u001b[38;5;28mself\u001b[39m\u001b[38;5;241m.\u001b[39mgene_type_single \u001b[38;5;241m==\u001b[39m \u001b[38;5;28;01mTrue\u001b[39;00m:\n",
      "\u001b[1;31mValueError\u001b[0m: A 2D list is expected to the initail_population parameter but a (3-D) list found."
     ]
    }
   ],
   "source": [
    "from pygad import GA\n",
    "from TravellingSalesman import TravellingSalesman\n",
    "\n",
    "n = 5\n",
    "ts = TravellingSalesman(n)\n",
    "pop = ts.population()\n",
    "\n",
    "def fitFunc(element, index):\n",
    "    return ts.fitnessFunction(element)\n",
    "\n",
    "\n",
    "ga = GA(num_generations=len(pop),\n",
    "        num_parents_mating=2,\n",
    "        num_genes=n,\n",
    "        initial_population=pop,\n",
    "        fitness_func=fitFunc,\n",
    "        parent_selection_type='rws',  # roullete\n",
    "        crossover_type='single_point',\n",
    "        crossover_probability=1,\n",
    "        mutation_type='swap',\n",
    "        mutation_probability=0.1,\n",
    "        allow_duplicate_genes=False,\n",
    "        stop_criteria='reach_1'\n",
    "        )\n",
    "\n",
    "ga.run()\n",
    "ga.plot_fitness()\n"
   ]
  }
 ],
 "metadata": {
  "interpreter": {
   "hash": "21d5e0349dd4088d7886e9913d8e7806ba0ad12223998a77838c11d913fd62a0"
  },
  "kernelspec": {
   "display_name": "Python 3.9.7 64-bit ('venv': venv)",
   "language": "python",
   "name": "python3"
  },
  "language_info": {
   "codemirror_mode": {
    "name": "ipython",
    "version": 3
   },
   "file_extension": ".py",
   "mimetype": "text/x-python",
   "name": "python",
   "nbconvert_exporter": "python",
   "pygments_lexer": "ipython3",
   "version": "3.9.6"
  },
  "orig_nbformat": 4
 },
 "nbformat": 4,
 "nbformat_minor": 2
}
